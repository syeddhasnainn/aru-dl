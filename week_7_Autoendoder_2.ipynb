{
 "cells": [
  {
   "cell_type": "markdown",
   "metadata": {
    "id": "VB9pbERmm8IZ"
   },
   "source": [
    "\n",
    "# Simple AutoEncoders with Image Data\n",
    "\n",
    "Here is a simple autoencoder with just the dense layers."
   ]
  },
  {
   "cell_type": "markdown",
   "metadata": {
    "id": "LlxN-eb5m8Ia"
   },
   "source": [
    "Load the data and import the libraries."
   ]
  },
  {
   "cell_type": "code",
   "execution_count": null,
   "metadata": {
    "id": "MGqNWU6Ym8Ia"
   },
   "outputs": [],
   "source": [
    "#\n",
    "# Import relevant Libraries\n",
    "#\n",
    "import pandas as pd\n",
    "import numpy as np\n",
    "import matplotlib.pyplot as plt\n",
    "import tensorflow\n",
    "import keras\n",
    "from keras import layers\n",
    "from keras.models import Model"
   ]
  },
  {
   "cell_type": "code",
   "execution_count": null,
   "metadata": {
    "id": "db4OX9Bdm8Ib"
   },
   "outputs": [],
   "source": [
    "\n",
    "# Load MNIST data and store it in variables x_train, x_test. Note -  we do not need labels as it's autoencoder.\n",
    "\n",
    "(x_train, _), (x_test, _) = keras.datasets.mnist.load_data()"
   ]
  },
  {
   "cell_type": "code",
   "execution_count": null,
   "metadata": {
    "colab": {
     "base_uri": "https://localhost:8080/",
     "height": 129
    },
    "id": "Y9VG7JbKm8Ic",
    "outputId": "d416dcff-0379-429e-ccaa-4817b49adfe2"
   },
   "outputs": [],
   "source": [
    "# Plot a few data points\n",
    "%matplotlib inline\n",
    "\n",
    "n = 10  # Number of records that will display\n",
    "plt.figure(figsize=(20, 4))\n",
    "for i in range(n):\n",
    "    # display original\n",
    "    ax = plt.subplot(2, n, i + 1)\n",
    "    plt.imshow(x_test[i].reshape(28, 28))\n",
    "    plt.gray()\n",
    "    ax.get_xaxis().set_visible(False)\n",
    "    ax.get_yaxis().set_visible(False)\n",
    "\n",
    "plt.show()"
   ]
  },
  {
   "cell_type": "code",
   "execution_count": null,
   "metadata": {
    "id": "l7J4pLFUm8Ic"
   },
   "outputs": [],
   "source": [
    "# Normalize train data - Divide by 255\n",
    "x_train = x_train/255.0\n",
    "# Normalize test data - Divide by 255\n",
    "x_test = x_test/255.0\n"
   ]
  },
  {
   "cell_type": "markdown",
   "metadata": {
    "id": "iN3Dtyymm8Ic"
   },
   "source": [
    "## Basic AutoEncoder\n",
    "\n",
    "Build a basic symmetric encoder-decoder network that recreates the image.  This network could be used in dimensionaliry reduction or feature learning. "
   ]
  },
  {
   "cell_type": "code",
   "execution_count": 35,
   "metadata": {
    "id": "sZ0Haczem8Id"
   },
   "outputs": [],
   "source": [
    "encoder = keras.Sequential()\n",
    "encoder.add(layers.Flatten(input_shape=[28,28]))\n",
    "\n",
    "#\n",
    "# Add as many hidden layers in the encoder network of your choise\n",
    "\n",
    "encoder.add(layers.Dense(400, activation=\"relu\"))\n",
    "encoder.add(layers.Dense(200, activation=\"relu\"))\n",
    "encoder.add(layers.Dense(100, activation=\"relu\"))\n",
    "encoder.add(layers.Dense(50, activation='relu'))\n",
    "encoder.add(layers.Dense(25, activation='relu'))\n",
    "\n",
    "\n",
    "\n",
    "# The last TWO layers of the encoder and decoder must be matched (see the following decoder cell.\n",
    "#"
   ]
  },
  {
   "cell_type": "code",
   "execution_count": 36,
   "metadata": {},
   "outputs": [
    {
     "name": "stdout",
     "output_type": "stream",
     "text": [
      "Model: \"sequential_11\"\n",
      "_________________________________________________________________\n",
      " Layer (type)                Output Shape              Param #   \n",
      "=================================================================\n",
      " flatten_2 (Flatten)         (None, 784)               0         \n",
      "                                                                 \n",
      " dense_31 (Dense)            (None, 400)               314000    \n",
      "                                                                 \n",
      " dense_32 (Dense)            (None, 200)               80200     \n",
      "                                                                 \n",
      " dense_33 (Dense)            (None, 100)               20100     \n",
      "                                                                 \n",
      " dense_34 (Dense)            (None, 50)                5050      \n",
      "                                                                 \n",
      " dense_35 (Dense)            (None, 25)                1275      \n",
      "                                                                 \n",
      "=================================================================\n",
      "Total params: 420625 (1.60 MB)\n",
      "Trainable params: 420625 (1.60 MB)\n",
      "Non-trainable params: 0 (0.00 Byte)\n",
      "_________________________________________________________________\n"
     ]
    }
   ],
   "source": [
    "# print the encoder model\n",
    "encoder.summary()"
   ]
  },
  {
   "cell_type": "code",
   "execution_count": 37,
   "metadata": {
    "id": "bWkuLDpjm8Id"
   },
   "outputs": [],
   "source": [
    "decoder = keras.Sequential()\n",
    "decoder.add(layers.Dense(50,input_shape=[25],activation='relu'))\n",
    "decoder.add(layers.Dense(100,activation='relu'))\n",
    "decoder.add(layers.Dense(200,activation='relu'))\n",
    "decoder.add(layers.Dense(400,activation='relu'))\n",
    "\n",
    "#\n",
    "# Add as many layers in the decoder as you want. Reember - Encoder and decoder need to be symmetric.\n",
    "#\n",
    "decoder.add(layers.Dense(28 * 28, activation=\"sigmoid\"))\n",
    "decoder.add(layers.Reshape([28, 28]))"
   ]
  },
  {
   "cell_type": "code",
   "execution_count": 33,
   "metadata": {},
   "outputs": [
    {
     "name": "stdout",
     "output_type": "stream",
     "text": [
      "Model: \"sequential_9\"\n",
      "_________________________________________________________________\n",
      " Layer (type)                Output Shape              Param #   \n",
      "=================================================================\n",
      " dense_26 (Dense)            (None, 50)                1300      \n",
      "                                                                 \n",
      " dense_27 (Dense)            (None, 100)               5100      \n",
      "                                                                 \n",
      " dense_28 (Dense)            (None, 200)               20200     \n",
      "                                                                 \n",
      " dense_29 (Dense)            (None, 400)               80400     \n",
      "                                                                 \n",
      " dense_30 (Dense)            (None, 784)               314384    \n",
      "                                                                 \n",
      " reshape_3 (Reshape)         (None, 28, 28)            0         \n",
      "                                                                 \n",
      "=================================================================\n",
      "Total params: 421384 (1.61 MB)\n",
      "Trainable params: 421384 (1.61 MB)\n",
      "Non-trainable params: 0 (0.00 Byte)\n",
      "_________________________________________________________________\n"
     ]
    }
   ],
   "source": [
    "# print the decoder model\n",
    "decoder.summary()"
   ]
  },
  {
   "cell_type": "code",
   "execution_count": 38,
   "metadata": {
    "id": "Iic4UbbXm8Id"
   },
   "outputs": [],
   "source": [
    "autoencoder = keras.Sequential([encoder, decoder]) # Combine encoder and decoder together.\n"
   ]
  },
  {
   "cell_type": "code",
   "execution_count": 39,
   "metadata": {},
   "outputs": [
    {
     "name": "stdout",
     "output_type": "stream",
     "text": [
      "Model: \"sequential_13\"\n",
      "_________________________________________________________________\n",
      " Layer (type)                Output Shape              Param #   \n",
      "=================================================================\n",
      " sequential_11 (Sequential)  (None, 25)                420625    \n",
      "                                                                 \n",
      " sequential_12 (Sequential)  (None, 28, 28)            421384    \n",
      "                                                                 \n",
      "=================================================================\n",
      "Total params: 842009 (3.21 MB)\n",
      "Trainable params: 842009 (3.21 MB)\n",
      "Non-trainable params: 0 (0.00 Byte)\n",
      "_________________________________________________________________\n"
     ]
    }
   ],
   "source": [
    "# print the autoencoder model\n",
    "autoencoder.summary()"
   ]
  },
  {
   "cell_type": "code",
   "execution_count": 45,
   "metadata": {
    "id": "Vps8w9u-m8Id"
   },
   "outputs": [],
   "source": [
    "# Compile the autoencoder. Use binary_crossenropy as loss and metrics as accuracy.\n",
    "autoencoder.compile(optimizer='adam', loss='binary_crossentropy', metrics='accuracy')"
   ]
  },
  {
   "cell_type": "code",
   "execution_count": 48,
   "metadata": {},
   "outputs": [
    {
     "name": "stdout",
     "output_type": "stream",
     "text": [
      "Epoch 1/100\n",
      "235/235 [==============================] - 3s 11ms/step - loss: 0.2476 - accuracy: 0.1036 - val_loss: 0.1709 - val_accuracy: 0.1744\n",
      "Epoch 2/100\n",
      "235/235 [==============================] - 2s 10ms/step - loss: 0.1539 - accuracy: 0.1982 - val_loss: 0.1399 - val_accuracy: 0.2154\n",
      "Epoch 3/100\n",
      "235/235 [==============================] - 3s 11ms/step - loss: 0.1339 - accuracy: 0.2241 - val_loss: 0.1269 - val_accuracy: 0.2329\n",
      "Epoch 4/100\n",
      "235/235 [==============================] - 3s 11ms/step - loss: 0.1251 - accuracy: 0.2363 - val_loss: 0.1214 - val_accuracy: 0.2342\n",
      "Epoch 5/100\n",
      "235/235 [==============================] - 2s 11ms/step - loss: 0.1193 - accuracy: 0.2472 - val_loss: 0.1159 - val_accuracy: 0.2488\n",
      "Epoch 6/100\n",
      "235/235 [==============================] - 3s 11ms/step - loss: 0.1149 - accuracy: 0.2544 - val_loss: 0.1133 - val_accuracy: 0.2477\n",
      "Epoch 7/100\n",
      "235/235 [==============================] - 2s 11ms/step - loss: 0.1115 - accuracy: 0.2605 - val_loss: 0.1096 - val_accuracy: 0.2582\n",
      "Epoch 8/100\n",
      "235/235 [==============================] - 3s 11ms/step - loss: 0.1087 - accuracy: 0.2649 - val_loss: 0.1071 - val_accuracy: 0.2649\n",
      "Epoch 9/100\n",
      "235/235 [==============================] - 3s 11ms/step - loss: 0.1064 - accuracy: 0.2693 - val_loss: 0.1051 - val_accuracy: 0.2643\n",
      "Epoch 10/100\n",
      "235/235 [==============================] - 3s 11ms/step - loss: 0.1043 - accuracy: 0.2731 - val_loss: 0.1025 - val_accuracy: 0.2706\n",
      "Epoch 11/100\n",
      "235/235 [==============================] - 3s 11ms/step - loss: 0.1021 - accuracy: 0.2775 - val_loss: 0.1014 - val_accuracy: 0.2703\n",
      "Epoch 12/100\n",
      "235/235 [==============================] - 3s 11ms/step - loss: 0.1004 - accuracy: 0.2807 - val_loss: 0.0998 - val_accuracy: 0.2783\n",
      "Epoch 13/100\n",
      "235/235 [==============================] - 3s 11ms/step - loss: 0.0990 - accuracy: 0.2836 - val_loss: 0.0984 - val_accuracy: 0.2762\n",
      "Epoch 14/100\n",
      "235/235 [==============================] - 3s 11ms/step - loss: 0.0976 - accuracy: 0.2862 - val_loss: 0.0972 - val_accuracy: 0.2762\n",
      "Epoch 15/100\n",
      "235/235 [==============================] - 3s 11ms/step - loss: 0.0964 - accuracy: 0.2890 - val_loss: 0.0960 - val_accuracy: 0.2863\n",
      "Epoch 16/100\n",
      "235/235 [==============================] - 3s 11ms/step - loss: 0.0953 - accuracy: 0.2913 - val_loss: 0.0954 - val_accuracy: 0.2819\n",
      "Epoch 17/100\n",
      "235/235 [==============================] - 3s 11ms/step - loss: 0.0945 - accuracy: 0.2931 - val_loss: 0.0941 - val_accuracy: 0.2911\n",
      "Epoch 18/100\n",
      "235/235 [==============================] - 3s 11ms/step - loss: 0.0936 - accuracy: 0.2944 - val_loss: 0.0933 - val_accuracy: 0.2882\n",
      "Epoch 19/100\n",
      "235/235 [==============================] - 3s 11ms/step - loss: 0.0928 - accuracy: 0.2974 - val_loss: 0.0931 - val_accuracy: 0.2906\n",
      "Epoch 20/100\n",
      "235/235 [==============================] - 3s 11ms/step - loss: 0.0923 - accuracy: 0.2990 - val_loss: 0.0925 - val_accuracy: 0.2898\n",
      "Epoch 21/100\n",
      "235/235 [==============================] - 3s 11ms/step - loss: 0.0915 - accuracy: 0.3009 - val_loss: 0.0919 - val_accuracy: 0.2936\n",
      "Epoch 22/100\n",
      "235/235 [==============================] - 3s 11ms/step - loss: 0.0910 - accuracy: 0.3030 - val_loss: 0.0917 - val_accuracy: 0.2945\n",
      "Epoch 23/100\n",
      "235/235 [==============================] - 3s 11ms/step - loss: 0.0905 - accuracy: 0.3051 - val_loss: 0.0910 - val_accuracy: 0.2977\n",
      "Epoch 24/100\n",
      "235/235 [==============================] - 3s 11ms/step - loss: 0.0900 - accuracy: 0.3071 - val_loss: 0.0909 - val_accuracy: 0.2998\n",
      "Epoch 25/100\n",
      "235/235 [==============================] - 3s 11ms/step - loss: 0.0895 - accuracy: 0.3078 - val_loss: 0.0904 - val_accuracy: 0.3011\n",
      "Epoch 26/100\n",
      "235/235 [==============================] - 3s 12ms/step - loss: 0.0890 - accuracy: 0.3099 - val_loss: 0.0895 - val_accuracy: 0.2995\n",
      "Epoch 27/100\n",
      "235/235 [==============================] - 3s 13ms/step - loss: 0.0888 - accuracy: 0.3107 - val_loss: 0.0895 - val_accuracy: 0.3083\n",
      "Epoch 28/100\n",
      "235/235 [==============================] - 3s 11ms/step - loss: 0.0884 - accuracy: 0.3121 - val_loss: 0.0894 - val_accuracy: 0.3004\n",
      "Epoch 29/100\n",
      "235/235 [==============================] - 2s 11ms/step - loss: 0.0880 - accuracy: 0.3129 - val_loss: 0.0887 - val_accuracy: 0.3035\n",
      "Epoch 30/100\n",
      "235/235 [==============================] - 3s 11ms/step - loss: 0.0876 - accuracy: 0.3142 - val_loss: 0.0890 - val_accuracy: 0.3041\n",
      "Epoch 31/100\n",
      "235/235 [==============================] - 3s 11ms/step - loss: 0.0874 - accuracy: 0.3149 - val_loss: 0.0888 - val_accuracy: 0.3072\n",
      "Epoch 32/100\n",
      "235/235 [==============================] - 3s 11ms/step - loss: 0.0870 - accuracy: 0.3160 - val_loss: 0.0886 - val_accuracy: 0.3026\n",
      "Epoch 33/100\n",
      "235/235 [==============================] - 2s 11ms/step - loss: 0.0868 - accuracy: 0.3168 - val_loss: 0.0878 - val_accuracy: 0.3086\n",
      "Epoch 34/100\n",
      "235/235 [==============================] - 3s 11ms/step - loss: 0.0866 - accuracy: 0.3173 - val_loss: 0.0873 - val_accuracy: 0.3039\n",
      "Epoch 35/100\n",
      "235/235 [==============================] - 3s 11ms/step - loss: 0.0862 - accuracy: 0.3179 - val_loss: 0.0880 - val_accuracy: 0.3080\n",
      "Epoch 36/100\n",
      "235/235 [==============================] - 3s 11ms/step - loss: 0.0861 - accuracy: 0.3193 - val_loss: 0.0873 - val_accuracy: 0.3118\n",
      "Epoch 37/100\n",
      "235/235 [==============================] - 3s 11ms/step - loss: 0.0860 - accuracy: 0.3191 - val_loss: 0.0874 - val_accuracy: 0.3082\n",
      "Epoch 38/100\n",
      "235/235 [==============================] - 3s 11ms/step - loss: 0.0855 - accuracy: 0.3202 - val_loss: 0.0871 - val_accuracy: 0.3146\n",
      "Epoch 39/100\n",
      "235/235 [==============================] - 3s 11ms/step - loss: 0.0853 - accuracy: 0.3215 - val_loss: 0.0865 - val_accuracy: 0.3160\n",
      "Epoch 40/100\n",
      "235/235 [==============================] - 3s 11ms/step - loss: 0.0852 - accuracy: 0.3216 - val_loss: 0.0868 - val_accuracy: 0.3175\n",
      "Epoch 41/100\n",
      "235/235 [==============================] - 2s 11ms/step - loss: 0.0850 - accuracy: 0.3225 - val_loss: 0.0865 - val_accuracy: 0.3160\n",
      "Epoch 42/100\n",
      "235/235 [==============================] - 3s 11ms/step - loss: 0.0848 - accuracy: 0.3230 - val_loss: 0.0866 - val_accuracy: 0.3050\n",
      "Epoch 43/100\n",
      "235/235 [==============================] - 3s 11ms/step - loss: 0.0846 - accuracy: 0.3235 - val_loss: 0.0860 - val_accuracy: 0.3150\n",
      "Epoch 44/100\n",
      "235/235 [==============================] - 3s 11ms/step - loss: 0.0843 - accuracy: 0.3239 - val_loss: 0.0855 - val_accuracy: 0.3134\n",
      "Epoch 45/100\n",
      "235/235 [==============================] - 3s 11ms/step - loss: 0.0842 - accuracy: 0.3246 - val_loss: 0.0860 - val_accuracy: 0.3225\n",
      "Epoch 46/100\n",
      "235/235 [==============================] - 3s 11ms/step - loss: 0.0841 - accuracy: 0.3250 - val_loss: 0.0858 - val_accuracy: 0.3152\n",
      "Epoch 47/100\n",
      "235/235 [==============================] - 3s 11ms/step - loss: 0.0839 - accuracy: 0.3254 - val_loss: 0.0854 - val_accuracy: 0.3202\n",
      "Epoch 48/100\n",
      "235/235 [==============================] - 3s 11ms/step - loss: 0.0836 - accuracy: 0.3256 - val_loss: 0.0855 - val_accuracy: 0.3160\n",
      "Epoch 49/100\n",
      "235/235 [==============================] - 3s 11ms/step - loss: 0.0836 - accuracy: 0.3260 - val_loss: 0.0855 - val_accuracy: 0.3151\n",
      "Epoch 50/100\n",
      "235/235 [==============================] - 3s 11ms/step - loss: 0.0833 - accuracy: 0.3265 - val_loss: 0.0851 - val_accuracy: 0.3118\n",
      "Epoch 51/100\n",
      "235/235 [==============================] - 2s 11ms/step - loss: 0.0832 - accuracy: 0.3266 - val_loss: 0.0850 - val_accuracy: 0.3118\n",
      "Epoch 52/100\n",
      "235/235 [==============================] - 2s 11ms/step - loss: 0.0832 - accuracy: 0.3267 - val_loss: 0.0844 - val_accuracy: 0.3153\n",
      "Epoch 53/100\n",
      "235/235 [==============================] - 2s 11ms/step - loss: 0.0829 - accuracy: 0.3276 - val_loss: 0.0850 - val_accuracy: 0.3198\n",
      "Epoch 54/100\n",
      "235/235 [==============================] - 2s 11ms/step - loss: 0.0828 - accuracy: 0.3278 - val_loss: 0.0845 - val_accuracy: 0.3119\n",
      "Epoch 55/100\n",
      "235/235 [==============================] - 2s 11ms/step - loss: 0.0826 - accuracy: 0.3291 - val_loss: 0.0844 - val_accuracy: 0.3232\n",
      "Epoch 56/100\n",
      "235/235 [==============================] - 3s 11ms/step - loss: 0.0826 - accuracy: 0.3281 - val_loss: 0.0844 - val_accuracy: 0.3140\n",
      "Epoch 57/100\n",
      "235/235 [==============================] - 3s 11ms/step - loss: 0.0824 - accuracy: 0.3286 - val_loss: 0.0844 - val_accuracy: 0.3153\n",
      "Epoch 58/100\n",
      "235/235 [==============================] - 3s 11ms/step - loss: 0.0822 - accuracy: 0.3292 - val_loss: 0.0842 - val_accuracy: 0.3214\n",
      "Epoch 59/100\n",
      "235/235 [==============================] - 3s 11ms/step - loss: 0.0823 - accuracy: 0.3290 - val_loss: 0.0839 - val_accuracy: 0.3185\n",
      "Epoch 60/100\n",
      "235/235 [==============================] - 3s 11ms/step - loss: 0.0821 - accuracy: 0.3288 - val_loss: 0.0841 - val_accuracy: 0.3233\n",
      "Epoch 61/100\n",
      "235/235 [==============================] - 3s 12ms/step - loss: 0.0820 - accuracy: 0.3296 - val_loss: 0.0845 - val_accuracy: 0.3177\n",
      "Epoch 62/100\n",
      "235/235 [==============================] - 3s 11ms/step - loss: 0.0819 - accuracy: 0.3296 - val_loss: 0.0839 - val_accuracy: 0.3231\n",
      "Epoch 63/100\n",
      "235/235 [==============================] - 3s 11ms/step - loss: 0.0819 - accuracy: 0.3300 - val_loss: 0.0839 - val_accuracy: 0.3186\n",
      "Epoch 64/100\n",
      "235/235 [==============================] - 3s 11ms/step - loss: 0.0818 - accuracy: 0.3303 - val_loss: 0.0839 - val_accuracy: 0.3103\n",
      "Epoch 65/100\n",
      "235/235 [==============================] - 3s 11ms/step - loss: 0.0817 - accuracy: 0.3298 - val_loss: 0.0843 - val_accuracy: 0.3231\n",
      "Epoch 66/100\n",
      "235/235 [==============================] - 3s 11ms/step - loss: 0.0815 - accuracy: 0.3308 - val_loss: 0.0845 - val_accuracy: 0.3229\n",
      "Epoch 67/100\n",
      "235/235 [==============================] - 3s 11ms/step - loss: 0.0814 - accuracy: 0.3311 - val_loss: 0.0842 - val_accuracy: 0.3129\n",
      "Epoch 68/100\n",
      "235/235 [==============================] - 2s 11ms/step - loss: 0.0815 - accuracy: 0.3308 - val_loss: 0.0834 - val_accuracy: 0.3170\n",
      "Epoch 69/100\n",
      "235/235 [==============================] - 3s 11ms/step - loss: 0.0813 - accuracy: 0.3307 - val_loss: 0.0834 - val_accuracy: 0.3200\n",
      "Epoch 70/100\n",
      "235/235 [==============================] - 3s 12ms/step - loss: 0.0813 - accuracy: 0.3313 - val_loss: 0.0839 - val_accuracy: 0.3226\n",
      "Epoch 71/100\n",
      "235/235 [==============================] - 3s 11ms/step - loss: 0.0812 - accuracy: 0.3320 - val_loss: 0.0838 - val_accuracy: 0.3235\n",
      "Epoch 72/100\n",
      "235/235 [==============================] - 3s 11ms/step - loss: 0.0811 - accuracy: 0.3316 - val_loss: 0.0836 - val_accuracy: 0.3252\n",
      "Epoch 73/100\n",
      "235/235 [==============================] - 2s 11ms/step - loss: 0.0810 - accuracy: 0.3318 - val_loss: 0.0833 - val_accuracy: 0.3226\n",
      "Epoch 74/100\n",
      "235/235 [==============================] - 3s 11ms/step - loss: 0.0810 - accuracy: 0.3322 - val_loss: 0.0833 - val_accuracy: 0.3244\n",
      "Epoch 75/100\n",
      "235/235 [==============================] - 3s 11ms/step - loss: 0.0809 - accuracy: 0.3321 - val_loss: 0.0830 - val_accuracy: 0.3212\n",
      "Epoch 76/100\n",
      "235/235 [==============================] - 3s 11ms/step - loss: 0.0809 - accuracy: 0.3318 - val_loss: 0.0831 - val_accuracy: 0.3207\n",
      "Epoch 77/100\n",
      "235/235 [==============================] - 3s 11ms/step - loss: 0.0809 - accuracy: 0.3324 - val_loss: 0.0836 - val_accuracy: 0.3268\n",
      "Epoch 78/100\n",
      "235/235 [==============================] - 3s 11ms/step - loss: 0.0807 - accuracy: 0.3329 - val_loss: 0.0842 - val_accuracy: 0.3253\n",
      "Epoch 79/100\n",
      "235/235 [==============================] - 3s 12ms/step - loss: 0.0806 - accuracy: 0.3327 - val_loss: 0.0834 - val_accuracy: 0.3141\n",
      "Epoch 80/100\n",
      "235/235 [==============================] - 3s 11ms/step - loss: 0.0805 - accuracy: 0.3323 - val_loss: 0.0830 - val_accuracy: 0.3222\n",
      "Epoch 81/100\n",
      "235/235 [==============================] - 3s 11ms/step - loss: 0.0806 - accuracy: 0.3319 - val_loss: 0.0831 - val_accuracy: 0.3209\n",
      "Epoch 82/100\n",
      "235/235 [==============================] - 3s 11ms/step - loss: 0.0805 - accuracy: 0.3322 - val_loss: 0.0827 - val_accuracy: 0.3174\n",
      "Epoch 83/100\n",
      "235/235 [==============================] - 2s 10ms/step - loss: 0.0805 - accuracy: 0.3321 - val_loss: 0.0826 - val_accuracy: 0.3195\n",
      "Epoch 84/100\n",
      "235/235 [==============================] - 3s 12ms/step - loss: 0.0803 - accuracy: 0.3331 - val_loss: 0.0829 - val_accuracy: 0.3243\n",
      "Epoch 85/100\n",
      "235/235 [==============================] - 3s 11ms/step - loss: 0.0803 - accuracy: 0.3326 - val_loss: 0.0829 - val_accuracy: 0.3231\n",
      "Epoch 86/100\n",
      "235/235 [==============================] - 3s 11ms/step - loss: 0.0802 - accuracy: 0.3338 - val_loss: 0.0829 - val_accuracy: 0.3198\n",
      "Epoch 87/100\n",
      "235/235 [==============================] - 2s 11ms/step - loss: 0.0802 - accuracy: 0.3336 - val_loss: 0.0836 - val_accuracy: 0.3192\n",
      "Epoch 88/100\n",
      "235/235 [==============================] - 3s 11ms/step - loss: 0.0802 - accuracy: 0.3339 - val_loss: 0.0835 - val_accuracy: 0.3191\n",
      "Epoch 89/100\n",
      "235/235 [==============================] - 3s 11ms/step - loss: 0.0800 - accuracy: 0.3337 - val_loss: 0.0825 - val_accuracy: 0.3261\n",
      "Epoch 90/100\n",
      "235/235 [==============================] - 3s 11ms/step - loss: 0.0799 - accuracy: 0.3337 - val_loss: 0.0826 - val_accuracy: 0.3240\n",
      "Epoch 91/100\n",
      "235/235 [==============================] - 3s 11ms/step - loss: 0.0800 - accuracy: 0.3346 - val_loss: 0.0826 - val_accuracy: 0.3234\n",
      "Epoch 92/100\n",
      "235/235 [==============================] - 2s 11ms/step - loss: 0.0798 - accuracy: 0.3348 - val_loss: 0.0821 - val_accuracy: 0.3255\n",
      "Epoch 93/100\n",
      "235/235 [==============================] - 2s 11ms/step - loss: 0.0798 - accuracy: 0.3351 - val_loss: 0.0829 - val_accuracy: 0.3180\n",
      "Epoch 94/100\n",
      "235/235 [==============================] - 3s 11ms/step - loss: 0.0797 - accuracy: 0.3351 - val_loss: 0.0825 - val_accuracy: 0.3248\n",
      "Epoch 95/100\n",
      "235/235 [==============================] - 3s 11ms/step - loss: 0.0796 - accuracy: 0.3350 - val_loss: 0.0826 - val_accuracy: 0.3215\n",
      "Epoch 96/100\n",
      "235/235 [==============================] - 3s 11ms/step - loss: 0.0796 - accuracy: 0.3351 - val_loss: 0.0824 - val_accuracy: 0.3289\n",
      "Epoch 97/100\n",
      "235/235 [==============================] - 3s 11ms/step - loss: 0.0795 - accuracy: 0.3358 - val_loss: 0.0820 - val_accuracy: 0.3276\n",
      "Epoch 98/100\n",
      "235/235 [==============================] - 3s 11ms/step - loss: 0.0795 - accuracy: 0.3356 - val_loss: 0.0821 - val_accuracy: 0.3222\n",
      "Epoch 99/100\n",
      "235/235 [==============================] - 3s 11ms/step - loss: 0.0794 - accuracy: 0.3360 - val_loss: 0.0820 - val_accuracy: 0.3226\n",
      "Epoch 100/100\n",
      "235/235 [==============================] - 3s 11ms/step - loss: 0.0794 - accuracy: 0.3366 - val_loss: 0.0819 - val_accuracy: 0.3206\n"
     ]
    },
    {
     "data": {
      "text/plain": [
       "<keras.src.callbacks.History at 0x298d4da10>"
      ]
     },
     "execution_count": 48,
     "metadata": {},
     "output_type": "execute_result"
    }
   ],
   "source": [
    "# Fit the autoencoder. Note - Input and output are same. x_train is your train data, x_test is your validation data.\n",
    "autoencoder.fit(x_train,x_train, epochs=100, batch_size=256,validation_data=(x_test, x_test))"
   ]
  },
  {
   "cell_type": "code",
   "execution_count": 53,
   "metadata": {
    "colab": {
     "base_uri": "https://localhost:8080/",
     "height": 266
    },
    "id": "8qa1dlv0m8Ie",
    "outputId": "496b16b2-d0dc-41d0-866d-f72db6611aad"
   },
   "outputs": [
    {
     "name": "stdout",
     "output_type": "stream",
     "text": [
      "313/313 [==============================] - 0s 1ms/step\n"
     ]
    },
    {
     "data": {
      "image/png": "[encoded data removed]",
      "text/plain": [
       "<Figure size 2000x400 with 10 Axes>"
      ]
     },
     "metadata": {},
     "output_type": "display_data"
    }
   ],
   "source": [
    "# Check a few sample images.\n",
    "decoded_imgs = autoencoder.predict(x_test)\n",
    "\n",
    "n = 10\n",
    "\n",
    "plt.figure(figsize=(20, 4))\n",
    "\n",
    "for i in range(n):\n",
    "    # \n",
    "    # Display original image - Just line sample code provided earlier.\n",
    "    #\n",
    "    ax = plt.subplot(2, n, i + 1)\n",
    "    plt.imshow(x_test[i].reshape(28, 28))\n",
    "    plt.gray()\n",
    "    ax.get_xaxis().set_visible(False)\n",
    "    ax.get_yaxis().set_visible(False)\n",
    "\n",
    "    # \n",
    "    # Display reconstruced (decoded) images. You need to slightly change your code.\n",
    "    #\n",
    "plt.show()"
   ]
  },
  {
   "cell_type": "markdown",
   "metadata": {
    "id": "uBRgywR9m8Ie"
   },
   "source": [
    "# AutoEncoders for Denoising Images\n",
    "\n",
    "Use the same digit data set. Add Gaussian noise to it to train an autoencoder that removes noise. Test the noisy samples. "
   ]
  },
  {
   "cell_type": "code",
   "execution_count": 54,
   "metadata": {
    "id": "OdDjYQC5m8Ie"
   },
   "outputs": [],
   "source": [
    "from tensorflow.keras.layers import GaussianNoise"
   ]
  },
  {
   "cell_type": "code",
   "execution_count": 55,
   "metadata": {
    "id": "da3tX601m8Ie"
   },
   "outputs": [],
   "source": [
    "sample = GaussianNoise(0.2)\n",
    "noisey = sample(x_test[0:2],training=True)"
   ]
  },
  {
   "cell_type": "code",
   "execution_count": 56,
   "metadata": {
    "colab": {
     "base_uri": "https://localhost:8080/",
     "height": 283
    },
    "id": "QrTuAs-Hm8Ie",
    "outputId": "5e85506e-6980-4470-b322-eaf6c911bba5"
   },
   "outputs": [
    {
     "data": {
      "text/plain": [
       "<matplotlib.image.AxesImage at 0x15bc4e810>"
      ]
     },
     "execution_count": 56,
     "metadata": {},
     "output_type": "execute_result"
    },
    {
     "data": {
      "image/png": "[encoded data removed]",
      "text/plain": [
       "<Figure size 640x480 with 1 Axes>"
      ]
     },
     "metadata": {},
     "output_type": "display_data"
    }
   ],
   "source": [
    "plt.imshow(x_test[0])"
   ]
  },
  {
   "cell_type": "code",
   "execution_count": 57,
   "metadata": {
    "colab": {
     "base_uri": "https://localhost:8080/",
     "height": 283
    },
    "id": "-O6S5HhSm8If",
    "outputId": "3b2e48c8-b14d-4080-869d-734844ce5ac1"
   },
   "outputs": [
    {
     "data": {
      "text/plain": [
       "<matplotlib.image.AxesImage at 0x15bf759d0>"
      ]
     },
     "execution_count": 57,
     "metadata": {},
     "output_type": "execute_result"
    },
    {
     "data": {
      "image/png": "[encoded data removed]",
      "text/plain": [
       "<Figure size 640x480 with 1 Axes>"
      ]
     },
     "metadata": {},
     "output_type": "display_data"
    }
   ],
   "source": [
    "plt.imshow(noisey[0])"
   ]
  },
  {
   "cell_type": "markdown",
   "metadata": {
    "id": "PCnzI8Mrm8If"
   },
   "source": [
    "### Create  noise removal autoencoder and train it.\n",
    "\n",
    "# Input - Images with noise\n",
    "# Labels - Clean images."
   ]
  },
  {
   "cell_type": "code",
   "execution_count": 59,
   "metadata": {
    "id": "sAwfn_Uqm8If"
   },
   "outputs": [],
   "source": [
    "\n",
    "encoder = keras.Sequential()\n",
    "encoder.add(layers.Flatten(input_shape=[28,28]))\n",
    "encoder.add(GaussianNoise(0.2)) # We are adding noise to make input as noisy image\n",
    "#\n",
    "# Add layers of encoder network. You could use same number of layers as earlier.\n",
    "#\n",
    "\n",
    "encoder.add(layers.Dense(400, activation=\"relu\"))\n",
    "encoder.add(layers.Dense(200, activation=\"relu\"))\n",
    "encoder.add(layers.Dense(100, activation=\"relu\"))\n",
    "encoder.add(layers.Dense(50, activation='relu'))\n",
    "encoder.add(layers.Dense(25, activation='relu'))\n"
   ]
  },
  {
   "cell_type": "code",
   "execution_count": 60,
   "metadata": {
    "id": "w51A8hiQm8If"
   },
   "outputs": [],
   "source": [
    "decoder = keras.Sequential()\n",
    "decoder.add(layers.Dense(50,input_shape=[25],activation='relu'))\n",
    "\n",
    "#\n",
    "# Add layers of decoder network. You could use same number of layers as earlier.\n",
    "#\n",
    "\n",
    "decoder.add(layers.Dense(50, activation='relu'))\n",
    "decoder.add(layers.Dense(100, activation='relu'))\n",
    "decoder.add(layers.Dense(200, activation='relu'))\n",
    "decoder.add(layers.Dense(400, activation='relu'))\n",
    "\n",
    "decoder.add(layers.Dense(28 * 28, activation=\"sigmoid\"))\n",
    "decoder.add(layers.Reshape([28, 28]))"
   ]
  },
  {
   "cell_type": "code",
   "execution_count": 61,
   "metadata": {
    "id": "kHurlGFvm8If"
   },
   "outputs": [],
   "source": [
    "noise_remover = keras.Sequential([encoder, decoder])"
   ]
  },
  {
   "cell_type": "code",
   "execution_count": 62,
   "metadata": {
    "id": "fpY3GDCBm8If"
   },
   "outputs": [],
   "source": [
    "# Compile the network as earlier\n",
    "noise_remover.compile(optimizer='adam', loss='binary_crossentropy', metrics='accuracy')"
   ]
  },
  {
   "cell_type": "code",
   "execution_count": 63,
   "metadata": {},
   "outputs": [
    {
     "name": "stdout",
     "output_type": "stream",
     "text": [
      "Epoch 1/30\n",
      "235/235 [==============================] - 3s 13ms/step - loss: 0.2582 - accuracy: 0.0894 - val_loss: 0.2077 - val_accuracy: 0.1255\n",
      "Epoch 2/30\n",
      "235/235 [==============================] - 3s 12ms/step - loss: 0.1768 - accuracy: 0.1716 - val_loss: 0.1569 - val_accuracy: 0.1972\n",
      "Epoch 3/30\n",
      "235/235 [==============================] - 3s 13ms/step - loss: 0.1535 - accuracy: 0.2012 - val_loss: 0.1454 - val_accuracy: 0.2102\n",
      "Epoch 4/30\n",
      "235/235 [==============================] - 3s 12ms/step - loss: 0.1429 - accuracy: 0.2153 - val_loss: 0.1367 - val_accuracy: 0.2216\n",
      "Epoch 5/30\n",
      "235/235 [==============================] - 3s 12ms/step - loss: 0.1352 - accuracy: 0.2255 - val_loss: 0.1307 - val_accuracy: 0.2299\n",
      "Epoch 6/30\n",
      "235/235 [==============================] - 3s 12ms/step - loss: 0.1286 - accuracy: 0.2331 - val_loss: 0.1230 - val_accuracy: 0.2349\n",
      "Epoch 7/30\n",
      "235/235 [==============================] - 3s 12ms/step - loss: 0.1240 - accuracy: 0.2385 - val_loss: 0.1184 - val_accuracy: 0.2448\n",
      "Epoch 8/30\n",
      "235/235 [==============================] - 3s 13ms/step - loss: 0.1200 - accuracy: 0.2445 - val_loss: 0.1143 - val_accuracy: 0.2506\n",
      "Epoch 9/30\n",
      "235/235 [==============================] - 3s 12ms/step - loss: 0.1171 - accuracy: 0.2489 - val_loss: 0.1120 - val_accuracy: 0.2515\n",
      "Epoch 10/30\n",
      "235/235 [==============================] - 3s 12ms/step - loss: 0.1145 - accuracy: 0.2522 - val_loss: 0.1096 - val_accuracy: 0.2599\n",
      "Epoch 11/30\n",
      "235/235 [==============================] - 3s 12ms/step - loss: 0.1124 - accuracy: 0.2562 - val_loss: 0.1095 - val_accuracy: 0.2583\n",
      "Epoch 12/30\n",
      "235/235 [==============================] - 3s 12ms/step - loss: 0.1102 - accuracy: 0.2590 - val_loss: 0.1063 - val_accuracy: 0.2608\n",
      "Epoch 13/30\n",
      "235/235 [==============================] - 3s 12ms/step - loss: 0.1085 - accuracy: 0.2620 - val_loss: 0.1036 - val_accuracy: 0.2682\n",
      "Epoch 14/30\n",
      "235/235 [==============================] - 3s 12ms/step - loss: 0.1070 - accuracy: 0.2646 - val_loss: 0.1022 - val_accuracy: 0.2708\n",
      "Epoch 15/30\n",
      "235/235 [==============================] - 3s 12ms/step - loss: 0.1059 - accuracy: 0.2674 - val_loss: 0.1026 - val_accuracy: 0.2667\n",
      "Epoch 16/30\n",
      "235/235 [==============================] - 3s 12ms/step - loss: 0.1046 - accuracy: 0.2699 - val_loss: 0.1008 - val_accuracy: 0.2766\n",
      "Epoch 17/30\n",
      "235/235 [==============================] - 3s 13ms/step - loss: 0.1037 - accuracy: 0.2720 - val_loss: 0.0996 - val_accuracy: 0.2790\n",
      "Epoch 18/30\n",
      "235/235 [==============================] - 3s 12ms/step - loss: 0.1028 - accuracy: 0.2739 - val_loss: 0.0984 - val_accuracy: 0.2774\n",
      "Epoch 19/30\n",
      "235/235 [==============================] - 3s 12ms/step - loss: 0.1019 - accuracy: 0.2759 - val_loss: 0.0982 - val_accuracy: 0.2807\n",
      "Epoch 20/30\n",
      "235/235 [==============================] - 3s 12ms/step - loss: 0.1013 - accuracy: 0.2770 - val_loss: 0.0973 - val_accuracy: 0.2845\n",
      "Epoch 21/30\n",
      "235/235 [==============================] - 3s 12ms/step - loss: 0.1004 - accuracy: 0.2789 - val_loss: 0.0968 - val_accuracy: 0.2852\n",
      "Epoch 22/30\n",
      "235/235 [==============================] - 3s 12ms/step - loss: 0.1000 - accuracy: 0.2801 - val_loss: 0.0959 - val_accuracy: 0.2844\n",
      "Epoch 23/30\n",
      "235/235 [==============================] - 3s 12ms/step - loss: 0.0992 - accuracy: 0.2828 - val_loss: 0.0961 - val_accuracy: 0.2854\n",
      "Epoch 24/30\n",
      "235/235 [==============================] - 3s 13ms/step - loss: 0.0988 - accuracy: 0.2835 - val_loss: 0.0952 - val_accuracy: 0.2822\n",
      "Epoch 25/30\n",
      "235/235 [==============================] - 3s 12ms/step - loss: 0.0982 - accuracy: 0.2852 - val_loss: 0.0947 - val_accuracy: 0.2804\n",
      "Epoch 26/30\n",
      "235/235 [==============================] - 3s 12ms/step - loss: 0.0978 - accuracy: 0.2863 - val_loss: 0.0942 - val_accuracy: 0.2818\n",
      "Epoch 27/30\n",
      "235/235 [==============================] - 3s 12ms/step - loss: 0.0972 - accuracy: 0.2873 - val_loss: 0.0938 - val_accuracy: 0.2934\n",
      "Epoch 28/30\n",
      "235/235 [==============================] - 3s 12ms/step - loss: 0.0968 - accuracy: 0.2886 - val_loss: 0.0936 - val_accuracy: 0.2890\n",
      "Epoch 29/30\n",
      "235/235 [==============================] - 3s 12ms/step - loss: 0.0965 - accuracy: 0.2890 - val_loss: 0.0926 - val_accuracy: 0.2889\n",
      "Epoch 30/30\n",
      "235/235 [==============================] - 3s 12ms/step - loss: 0.0961 - accuracy: 0.2899 - val_loss: 0.0927 - val_accuracy: 0.2912\n"
     ]
    },
    {
     "data": {
      "text/plain": [
       "<keras.src.callbacks.History at 0x15be18e90>"
      ]
     },
     "execution_count": 63,
     "metadata": {},
     "output_type": "execute_result"
    }
   ],
   "source": [
    "# Fit the network as earlier.\n",
    "noise_remover.fit(x_train, x_train, validation_data=(x_test, x_test), epochs=30, batch_size=256)\n"
   ]
  },
  {
   "cell_type": "code",
   "execution_count": 64,
   "metadata": {
    "id": "rQXenyFYm8Ig"
   },
   "outputs": [],
   "source": [
    "ten_noisey_images = sample(x_test[0:10],training=True)\n",
    "denoised = noise_remover(ten_noisey_images[0:10])"
   ]
  },
  {
   "cell_type": "code",
   "execution_count": 65,
   "metadata": {
    "id": "2IJtMOcKm8Ig",
    "scrolled": true
   },
   "outputs": [
    {
     "name": "stdout",
     "output_type": "stream",
     "text": [
      "The Original\n"
     ]
    },
    {
     "data": {
      "image/png": "[encoded data removed]",
      "text/plain": [
       "<Figure size 640x480 with 1 Axes>"
      ]
     },
     "metadata": {},
     "output_type": "display_data"
    },
    {
     "name": "stdout",
     "output_type": "stream",
     "text": [
      "The Noisey Version\n"
     ]
    },
    {
     "data": {
      "image/png": "[encoded data removed]",
      "text/plain": [
       "<Figure size 640x480 with 1 Axes>"
      ]
     },
     "metadata": {},
     "output_type": "display_data"
    },
    {
     "name": "stdout",
     "output_type": "stream",
     "text": [
      "After going through denoiser\n"
     ]
    },
    {
     "data": {
      "image/png": "[encoded data removed]",
      "text/plain": [
       "<Figure size 640x480 with 1 Axes>"
      ]
     },
     "metadata": {},
     "output_type": "display_data"
    }
   ],
   "source": [
    "n = 4\n",
    "print(\"The Original\")\n",
    "plt.imshow(x_test[n])\n",
    "plt.show()\n",
    "\n",
    "\n",
    "print(\"The Noisey Version\")\n",
    "plt.imshow(ten_noisey_images[n])\n",
    "plt.show()\n",
    "\n",
    "\n",
    "print(\"After going through denoiser\")\n",
    "plt.imshow(denoised[n])\n",
    "plt.show()"
   ]
  },
  {
   "cell_type": "code",
   "execution_count": null,
   "metadata": {},
   "outputs": [],
   "source": []
  },
  {
   "cell_type": "markdown",
   "metadata": {},
   "source": [
    "## Lab Logbook requirement:\n",
    "\n",
    "- Put the model summary for task 1 in you lab logbook.\n",
    "\n",
    "Ensure that no code or other information is added to the logbook and that only required information is present.  Marks will not be awarded if anything else is found in the logbook or instructions are not clearly followed.\n",
    "\n",
    "NOTE: DON'T FORGET TO SAVE AND BACK UP YOUR COMPLETED JUPYTER NOTEBOOK AND LAB LOGBOOK ON GITHUB OR ONEDRIVE."
   ]
  }
 ],
 "metadata": {
  "colab": {
   "provenance": []
  },
  "kernelspec": {
   "display_name": "Python 3 (ipykernel)",
   "language": "python",
   "name": "python3"
  },
  "language_info": {
   "codemirror_mode": {
    "name": "ipython",
    "version": 3
   },
   "file_extension": ".py",
   "mimetype": "text/x-python",
   "name": "python",
   "nbconvert_exporter": "python",
   "pygments_lexer": "ipython3",
   "version": "3.11.6"
  }
 },
 "nbformat": 4,
 "nbformat_minor": 1
}
