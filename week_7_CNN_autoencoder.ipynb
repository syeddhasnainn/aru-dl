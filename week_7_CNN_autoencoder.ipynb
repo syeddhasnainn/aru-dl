{
  "cells": [
    {
      "cell_type": "code",
      "execution_count": 2,
      "metadata": {
        "id": "CzlOdaugnb_U"
      },
      "outputs": [],
      "source": [
        "import tensorflow as tf"
      ]
    },
    {
      "cell_type": "code",
      "execution_count": 3,
      "metadata": {
        "id": "o5WFh4uQnb_W"
      },
      "outputs": [],
      "source": [
        "from tensorflow import keras\n",
        "from keras.layers import Input, Dense\n",
        "from keras.models import Model\n",
        "from keras.datasets import mnist\n",
        "import numpy as np\n",
        "(x_train, _), (x_test, _) = mnist.load_data()"
      ]
    },
    {
      "cell_type": "code",
      "execution_count": 4,
      "metadata": {
        "id": "tSQUNzNWnb_X"
      },
      "outputs": [
        {
          "data": {
            "image/png": "[encoded data removed]",
            "text/plain": [
              "<Figure size 200x200 with 10 Axes>"
            ]
          },
          "metadata": {},
          "output_type": "display_data"
        }
      ],
      "source": [
        "import matplotlib.pyplot as plt\n",
        "%matplotlib inline\n",
        "\n",
        "n = 10  # how many records we will display\n",
        "plt.figure(figsize=(2, 2))\n",
        "for i in range(n):\n",
        "    # display original\n",
        "    ax = plt.subplot(2, n, i + 1)\n",
        "    plt.imshow(x_test[i].reshape(28,28))\n",
        "    plt.gray()\n",
        "    ax.get_xaxis().set_visible(False)\n",
        "    ax.get_yaxis().set_visible(False)\n",
        "\n",
        "plt.show()"
      ]
    },
    {
      "cell_type": "markdown",
      "metadata": {
        "id": "opSUZNsCnb_X"
      },
      "source": [
        "![image.png](attachment:image.png)"
      ]
    },
    {
      "cell_type": "code",
      "execution_count": 5,
      "metadata": {
        "id": "b893a54bnb_Y"
      },
      "outputs": [],
      "source": [
        "from tensorflow.keras.models import Sequential, Model\n",
        "from tensorflow.keras.layers import Dense, Conv2D, MaxPool2D, Flatten, UpSampling2D, Reshape"
      ]
    },
    {
      "cell_type": "code",
      "execution_count": 6,
      "metadata": {
        "id": "invEZgj8nb_Z"
      },
      "outputs": [],
      "source": [
        "encode_model = Sequential()\n",
        "\n",
        "############\n",
        "# Encoding #\n",
        "############\n",
        "\n",
        "## FIRST SET OF LAYERS\n",
        "# CONVOLUTIONAL LAYER\n",
        "encode_model.add(Conv2D(filters=16, kernel_size=(3,3), input_shape=(28, 28, 1), activation='relu', padding='same'))\n",
        "# POOLING LAYER\n",
        "encode_model.add(MaxPool2D(pool_size=(2, 2),  padding='same'))\n",
        "\n",
        "## SECOND SET OF LAYERS\n",
        "# CONVOLUTIONAL LAYER\n",
        "encode_model.add(Conv2D(filters=8, kernel_size=(3,3), activation = 'relu', padding='same'))\n",
        "# POOLING LAYER\n",
        "encode_model.add(MaxPool2D(pool_size=(2, 2), padding='same'))\n",
        "\n",
        "## THIRD SET OF LAYERS\n",
        "# CONVOLUTIONAL LAYER\n",
        "#encode_model.add(Conv2D(filters=8, kernel_size=(3,3), activation='relu', padding='same'))\n",
        "# POOLING LAYER\n",
        "#encode_model.add(MaxPool2D(pool_size=(2, 2), padding='valid'))\n",
        "encode_model.add(Flatten(input_shape=[7,7,8]))\n",
        "encode_model.add(Dense(7*7*8, activation=\"relu\"))\n",
        "encode_model.add(Dense(30, activation=\"relu\"))"
      ]
    },
    {
      "cell_type": "code",
      "execution_count": 7,
      "metadata": {
        "id": "Fchfz3Ffnb_Z"
      },
      "outputs": [],
      "source": [
        "############\n",
        "# Decoding #\n",
        "############\n",
        "decode_model=Sequential()\n",
        "\n",
        "# DeConv1\n",
        "#decode_model.add(Conv2D(filters=8, kernel_size=(3,3), activation='relu', padding='same'))\n",
        "# Upsampling LAYER\n",
        "#decode_model.add(UpSampling2D((2, 2)))\n",
        "\n",
        "decode_model.add(Dense(7*7*8,activation=\"relu\"))\n",
        "decode_model.add(Reshape([7,7,8]))\n",
        "\n",
        "# DeConv2\n",
        "decode_model.add(Conv2D(filters=8, kernel_size=(3,3), activation='relu', padding='same'))\n",
        "# Upsampling LAYER\n",
        "decode_model.add(UpSampling2D((2, 2)))\n",
        "\n",
        "# Deconv3\n",
        "decode_model.add(Conv2D(filters=16, kernel_size=(3,3), activation='relu', padding='same'))\n",
        "# POOLING LAYER\n",
        "decode_model.add(UpSampling2D((2, 2)))\n",
        "\n",
        "decode_model.add(Conv2D(1, kernel_size=(3,3), activation='sigmoid', padding='same'))\n"
      ]
    },
    {
      "cell_type": "code",
      "execution_count": 8,
      "metadata": {
        "id": "Mw9Mcq5dnb_Z"
      },
      "outputs": [],
      "source": [
        "autoencoder = Sequential([encode_model, decode_model])"
      ]
    },
    {
      "cell_type": "code",
      "execution_count": 9,
      "metadata": {
        "id": "IvdkGvSNnb_a"
      },
      "outputs": [],
      "source": [
        "autoencoder.compile(optimizer='adam', loss='binary_crossentropy', metrics='accuracy')"
      ]
    },
    {
      "cell_type": "code",
      "execution_count": 10,
      "metadata": {
        "id": "FieERwXBnb_b"
      },
      "outputs": [
        {
          "name": "stdout",
          "output_type": "stream",
          "text": [
            "Model: \"sequential_2\"\n",
            "_________________________________________________________________\n",
            " Layer (type)                Output Shape              Param #   \n",
            "=================================================================\n",
            " sequential (Sequential)     (None, 30)                167166    \n",
            "                                                                 \n",
            " sequential_1 (Sequential)   (None, 28, 28, 1)         14049     \n",
            "                                                                 \n",
            "=================================================================\n",
            "Total params: 181215 (707.87 KB)\n",
            "Trainable params: 181215 (707.87 KB)\n",
            "Non-trainable params: 0 (0.00 Byte)\n",
            "_________________________________________________________________\n"
          ]
        }
      ],
      "source": [
        "autoencoder.summary()"
      ]
    },
    {
      "cell_type": "code",
      "execution_count": 11,
      "metadata": {
        "id": "-uToDopqnb_b"
      },
      "outputs": [
        {
          "name": "stdout",
          "output_type": "stream",
          "text": [
            "Model: \"sequential_1\"\n",
            "_________________________________________________________________\n",
            " Layer (type)                Output Shape              Param #   \n",
            "=================================================================\n",
            " dense_2 (Dense)             (None, 392)               12152     \n",
            "                                                                 \n",
            " reshape (Reshape)           (None, 7, 7, 8)           0         \n",
            "                                                                 \n",
            " conv2d_2 (Conv2D)           (None, 7, 7, 8)           584       \n",
            "                                                                 \n",
            " up_sampling2d (UpSampling2  (None, 14, 14, 8)         0         \n",
            " D)                                                              \n",
            "                                                                 \n",
            " conv2d_3 (Conv2D)           (None, 14, 14, 16)        1168      \n",
            "                                                                 \n",
            " up_sampling2d_1 (UpSamplin  (None, 28, 28, 16)        0         \n",
            " g2D)                                                            \n",
            "                                                                 \n",
            " conv2d_4 (Conv2D)           (None, 28, 28, 1)         145       \n",
            "                                                                 \n",
            "=================================================================\n",
            "Total params: 14049 (54.88 KB)\n",
            "Trainable params: 14049 (54.88 KB)\n",
            "Non-trainable params: 0 (0.00 Byte)\n",
            "_________________________________________________________________\n"
          ]
        }
      ],
      "source": [
        "decode_model.summary()"
      ]
    },
    {
      "cell_type": "code",
      "execution_count": 12,
      "metadata": {
        "colab": {
          "base_uri": "https://localhost:8080/"
        },
        "id": "YLekt0eMnb_b",
        "outputId": "58650c48-9359-4e37-ad71-99a5f37d3072"
      },
      "outputs": [
        {
          "data": {
            "text/plain": [
              "(60000, 28, 28, 1)"
            ]
          },
          "execution_count": 12,
          "metadata": {},
          "output_type": "execute_result"
        }
      ],
      "source": [
        "x_train = x_train.reshape(60000,28,28,1)\n",
        "x_train = x_train/255\n",
        "x_train.shape"
      ]
    },
    {
      "cell_type": "code",
      "execution_count": 13,
      "metadata": {
        "id": "PfSZaCCEnb_b"
      },
      "outputs": [
        {
          "data": {
            "text/plain": [
              "(10000, 28, 28, 1)"
            ]
          },
          "execution_count": 13,
          "metadata": {},
          "output_type": "execute_result"
        }
      ],
      "source": [
        "x_test = x_test.reshape(10000, 28, 28, 1)\n",
        "x_test = x_test/255\n",
        "x_test.shape"
      ]
    },
    {
      "cell_type": "code",
      "execution_count": 14,
      "metadata": {
        "id": "0kDxggwUnb_b"
      },
      "outputs": [
        {
          "name": "stdout",
          "output_type": "stream",
          "text": [
            "Epoch 1/10\n",
            "469/469 [==============================] - 13s 27ms/step - loss: 0.2033 - accuracy: 0.8023 - val_loss: 0.1263 - val_accuracy: 0.8078\n",
            "Epoch 2/10\n",
            "469/469 [==============================] - 13s 28ms/step - loss: 0.1163 - accuracy: 0.8098 - val_loss: 0.1070 - val_accuracy: 0.8107\n",
            "Epoch 3/10\n",
            "469/469 [==============================] - 12s 27ms/step - loss: 0.1048 - accuracy: 0.8117 - val_loss: 0.1001 - val_accuracy: 0.8112\n",
            "Epoch 4/10\n",
            "469/469 [==============================] - 13s 27ms/step - loss: 0.0993 - accuracy: 0.8125 - val_loss: 0.0962 - val_accuracy: 0.8115\n",
            "Epoch 5/10\n",
            "469/469 [==============================] - 13s 29ms/step - loss: 0.0957 - accuracy: 0.8130 - val_loss: 0.0942 - val_accuracy: 0.8117\n",
            "Epoch 6/10\n",
            "469/469 [==============================] - 13s 27ms/step - loss: 0.0934 - accuracy: 0.8133 - val_loss: 0.0910 - val_accuracy: 0.8127\n",
            "Epoch 7/10\n",
            "469/469 [==============================] - 13s 27ms/step - loss: 0.0915 - accuracy: 0.8135 - val_loss: 0.0896 - val_accuracy: 0.8130\n",
            "Epoch 8/10\n",
            "469/469 [==============================] - 13s 27ms/step - loss: 0.0902 - accuracy: 0.8137 - val_loss: 0.0881 - val_accuracy: 0.8128\n",
            "Epoch 9/10\n",
            "469/469 [==============================] - 13s 28ms/step - loss: 0.0891 - accuracy: 0.8138 - val_loss: 0.0873 - val_accuracy: 0.8129\n",
            "Epoch 10/10\n",
            "469/469 [==============================] - 13s 28ms/step - loss: 0.0881 - accuracy: 0.8139 - val_loss: 0.0869 - val_accuracy: 0.8129\n"
          ]
        },
        {
          "data": {
            "text/plain": [
              "<keras.src.callbacks.History at 0x17f6cbe10>"
            ]
          },
          "execution_count": 14,
          "metadata": {},
          "output_type": "execute_result"
        }
      ],
      "source": [
        "# Train the model\n",
        "autoencoder.fit(x=x_train, y=x_train,  epochs=10, batch_size=128, shuffle=True, verbose=1, validation_data=(x_test, x_test))"
      ]
    },
    {
      "cell_type": "code",
      "execution_count": 19,
      "metadata": {
        "id": "yBM1A98snb_b"
      },
      "outputs": [
        {
          "name": "stdout",
          "output_type": "stream",
          "text": [
            "313/313 [==============================] - 1s 4ms/step\n"
          ]
        },
        {
          "data": {
            "image/png": "[encoded data removed]",
            "text/plain": [
              "<Figure size 2000x400 with 20 Axes>"
            ]
          },
          "metadata": {},
          "output_type": "display_data"
        }
      ],
      "source": [
        "decoded_imgs = autoencoder.predict(x_test)\n",
        "\n",
        "n = 10\n",
        "\n",
        "plt.figure(figsize=(20, 4))\n",
        "for i in range(n):\n",
        "    # display original\n",
        "    ax = plt.subplot(2, n, i + 1)\n",
        "    plt.imshow(x_test[i].reshape(28, 28))\n",
        "    plt.gray()\n",
        "    ax.get_xaxis().set_visible(False)\n",
        "    ax.get_yaxis().set_visible(False)\n",
        "\n",
        "    # display reconstruction\n",
        "    ax = plt.subplot(2, n, i+1+n)\n",
        "    plt.imshow(decoded_imgs[i].reshape(28, 28))\n",
        "    plt.gray()\n",
        "    ax.get_xaxis().set_visible(False)\n",
        "    ax.get_yaxis().set_visible(False)\n"
      ]
    },
    {
      "cell_type": "code",
      "execution_count": null,
      "metadata": {},
      "outputs": [],
      "source": []
    }
  ],
  "metadata": {
    "colab": {
      "provenance": []
    },
    "kernelspec": {
      "display_name": "Python 3",
      "language": "python",
      "name": "python3"
    },
    "language_info": {
      "codemirror_mode": {
        "name": "ipython",
        "version": 3
      },
      "file_extension": ".py",
      "mimetype": "text/x-python",
      "name": "python",
      "nbconvert_exporter": "python",
      "pygments_lexer": "ipython3",
      "version": "3.11.6"
    }
  },
  "nbformat": 4,
  "nbformat_minor": 0
}
