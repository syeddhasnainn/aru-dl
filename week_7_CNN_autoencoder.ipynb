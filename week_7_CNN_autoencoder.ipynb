{
  "cells": [
    {
      "cell_type": "code",
      "execution_count": 2,
      "metadata": {
        "id": "CzlOdaugnb_U"
      },
      "outputs": [],
      "source": [
        "import tensorflow as tf"
      ]
    },
    {
      "cell_type": "code",
      "execution_count": null,
      "metadata": {
        "id": "o5WFh4uQnb_W"
      },
      "outputs": [],
      "source": [
        "from tensorflow import keras\n",
        "from keras.layers import Input, Dense\n",
        "from keras.models import Model\n",
        "from keras.datasets import mnist\n",
        "import numpy as np\n",
        "(x_train, _), (x_test, _) = mnist.load_data()"
      ]
    },
    {
      "cell_type": "code",
      "execution_count": null,
      "metadata": {
        "id": "tSQUNzNWnb_X"
      },
      "outputs": [],
      "source": [
        "import matplotlib.pyplot as plt\n",
        "%matplotlib inline\n",
        "\n",
        "n = 10  # how many records we will display\n",
        "plt.figure(figsize=(2, 2))\n",
        "for i in range(n):\n",
        "    # display original\n",
        "    ax = plt.subplot(2, n, i + 1)\n",
        "    plt.imshow(x_test[i].reshape(28,28))\n",
        "    plt.gray()\n",
        "    ax.get_xaxis().set_visible(False)\n",
        "    ax.get_yaxis().set_visible(False)\n",
        "\n",
        "plt.show()"
      ]
    },
    {
      "cell_type": "markdown",
      "metadata": {
        "id": "opSUZNsCnb_X"
      },
      "source": [
        "![image.png](attachment:image.png)"
      ]
    },
    {
      "cell_type": "code",
      "execution_count": null,
      "metadata": {
        "id": "b893a54bnb_Y"
      },
      "outputs": [],
      "source": [
        "from tensorflow.keras.models import Sequential, Model\n",
        "from tensorflow.keras.layers import Dense, Conv2D, MaxPool2D, Flatten, UpSampling2D, Reshape"
      ]
    },
    {
      "cell_type": "code",
      "execution_count": null,
      "metadata": {
        "id": "invEZgj8nb_Z"
      },
      "outputs": [],
      "source": [
        "encode_model = Sequential()\n",
        "\n",
        "############\n",
        "# Encoding #\n",
        "############\n",
        "\n",
        "## FIRST SET OF LAYERS\n",
        "# CONVOLUTIONAL LAYER\n",
        "encode_model.add(Conv2D(filters=16, kernel_size=(3,3), input_shape=(28, 28, 1), activation='relu', padding='same'))\n",
        "# POOLING LAYER\n",
        "encode_model.add(MaxPool2D(pool_size=(2, 2),  padding='same'))\n",
        "\n",
        "## SECOND SET OF LAYERS\n",
        "# CONVOLUTIONAL LAYER\n",
        "encode_model.add(Conv2D(filters=8, kernel_size=(3,3), activation = 'relu', padding='same'))\n",
        "# POOLING LAYER\n",
        "encode_model.add(MaxPool2D(pool_size=(2, 2), padding='same'))\n",
        "\n",
        "## THIRD SET OF LAYERS\n",
        "# CONVOLUTIONAL LAYER\n",
        "#encode_model.add(Conv2D(filters=8, kernel_size=(3,3), activation='relu', padding='same'))\n",
        "# POOLING LAYER\n",
        "#encode_model.add(MaxPool2D(pool_size=(2, 2), padding='valid'))\n",
        "encode_model.add(Flatten(input_shape=[7,7,8]))\n",
        "encode_model.add(Dense(7*7*8, activation=\"relu\"))\n",
        "encode_model.add(Dense(30, activation=\"relu\"))"
      ]
    },
    {
      "cell_type": "code",
      "execution_count": null,
      "metadata": {
        "id": "Fchfz3Ffnb_Z"
      },
      "outputs": [],
      "source": [
        "############\n",
        "# Decoding #\n",
        "############\n",
        "decode_model=Sequential()\n",
        "\n",
        "# DeConv1\n",
        "#decode_model.add(Conv2D(filters=8, kernel_size=(3,3), activation='relu', padding='same'))\n",
        "# Upsampling LAYER\n",
        "#decode_model.add(UpSampling2D((2, 2)))\n",
        "\n",
        "decode_model.add(Dense(7*7*8,activation=\"relu\"))\n",
        "decode_model.add(Reshape([7,7,8]))\n",
        "\n",
        "# DeConv2\n",
        "decode_model.add(Conv2D(filters=8, kernel_size=(3,3), activation='relu', padding='same'))\n",
        "# Upsampling LAYER\n",
        "decode_model.add(UpSampling2D((2, 2)))\n",
        "\n",
        "# Deconv3\n",
        "decode_model.add(Conv2D(filters=16, kernel_size=(3,3), activation='relu', padding='same'))\n",
        "# POOLING LAYER\n",
        "decode_model.add(UpSampling2D((2, 2)))\n",
        "\n",
        "decode_model.add(Conv2D(1, kernel_size=(3,3), activation='sigmoid', padding='same'))\n"
      ]
    },
    {
      "cell_type": "code",
      "execution_count": null,
      "metadata": {
        "id": "Mw9Mcq5dnb_Z"
      },
      "outputs": [],
      "source": [
        "autoencoder = Sequential([encode_model, decode_model])"
      ]
    },
    {
      "cell_type": "code",
      "execution_count": null,
      "metadata": {
        "id": "IvdkGvSNnb_a"
      },
      "outputs": [],
      "source": [
        "autoencoder.compile(optimizer='adam', loss='binary_crossentropy', metrics='accuracy')"
      ]
    },
    {
      "cell_type": "code",
      "execution_count": null,
      "metadata": {
        "id": "FieERwXBnb_b"
      },
      "outputs": [],
      "source": [
        "autoencoder.summary()"
      ]
    },
    {
      "cell_type": "code",
      "execution_count": null,
      "metadata": {
        "id": "-uToDopqnb_b"
      },
      "outputs": [],
      "source": [
        "decode_model.summary()"
      ]
    },
    {
      "cell_type": "code",
      "execution_count": null,
      "metadata": {
        "colab": {
          "base_uri": "https://localhost:8080/"
        },
        "id": "YLekt0eMnb_b",
        "outputId": "58650c48-9359-4e37-ad71-99a5f37d3072"
      },
      "outputs": [],
      "source": [
        "x_train = x_train.reshape(60000,28,28,1)\n",
        "x_train = x_train/255\n",
        "x_train.shape"
      ]
    },
    {
      "cell_type": "code",
      "execution_count": null,
      "metadata": {
        "id": "PfSZaCCEnb_b"
      },
      "outputs": [],
      "source": [
        "x_test = x_test.reshape(10000, 28, 28, 1)\n",
        "x_test = x_test/255\n",
        "x_test.shape"
      ]
    },
    {
      "cell_type": "code",
      "execution_count": null,
      "metadata": {
        "id": "0kDxggwUnb_b"
      },
      "outputs": [],
      "source": [
        "# Train the model\n",
        "autoencoder.fit(x=x_train, y=x_train,  epochs=10, batch_size=128, shuffle=True, verbose=1, validation_data=(x_test, x_test))"
      ]
    },
    {
      "cell_type": "code",
      "execution_count": null,
      "metadata": {
        "id": "yBM1A98snb_b"
      },
      "outputs": [],
      "source": [
        "decoded_imgs = autoencoder.predict(x_test)\n",
        "\n",
        "n = 10\n",
        "\n",
        "plt.figure(figsize=(20, 4))\n",
        "for i in range():\n",
        "    # display original\n",
        "    ax = plt.subplot(2, n, i + 1)\n",
        "    plt.imshow(x_test[i].reshape(28))\n",
        "    plt.gray()\n",
        "    ax.get_xaxis().set_visible(False)\n",
        "    ax.get_yaxis().set_visible(False)\n",
        "\n",
        "    # display reconstruction\n",
        "    ax = plt.subplot(2, n, i+1+n)\n",
        "    plt.imshow(decoded_imgs[i].reshape(28, 28))\n",
        "    plt.gray()\n",
        "    ax.get_xaxis().set_visible(False)\n",
        "    ax.get_yaxis().set_visible(False)\n"
      ]
    }
  ],
  "metadata": {
    "colab": {
      "provenance": []
    },
    "kernelspec": {
      "display_name": "Python 3",
      "language": "python",
      "name": "python3"
    },
    "language_info": {
      "codemirror_mode": {
        "name": "ipython",
        "version": 3
      },
      "file_extension": ".py",
      "mimetype": "text/x-python",
      "name": "python",
      "nbconvert_exporter": "python",
      "pygments_lexer": "ipython3",
      "version": "3.11.6"
    }
  },
  "nbformat": 4,
  "nbformat_minor": 0
}
